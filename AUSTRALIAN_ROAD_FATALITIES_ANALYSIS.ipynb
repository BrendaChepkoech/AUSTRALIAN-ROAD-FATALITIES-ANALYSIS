{
  "nbformat": 4,
  "nbformat_minor": 0,
  "metadata": {
    "colab": {
      "name": "AUSTRALIAN ROAD FATALITIES ANALYSIS",
      "provenance": [],
      "collapsed_sections": [],
      "include_colab_link": true
    },
    "kernelspec": {
      "name": "python3",
      "display_name": "Python 3"
    },
    "language_info": {
      "name": "python"
    }
  },
  "cells": [
    {
      "cell_type": "markdown",
      "metadata": {
        "id": "view-in-github",
        "colab_type": "text"
      },
      "source": [
        "<a href=\"https://colab.research.google.com/github/BrendaChepkoech/AUSTRALIAN-ROAD-FATALITIES-ANALYSIS/blob/main/AUSTRALIAN_ROAD_FATALITIES_ANALYSIS.ipynb\" target=\"_parent\"><img src=\"https://colab.research.google.com/assets/colab-badge.svg\" alt=\"Open In Colab\"/></a>"
      ]
    },
    {
      "cell_type": "markdown",
      "metadata": {
        "id": "yjonJGNnYwoc"
      },
      "source": [
        "## 1. Defining the question"
      ]
    },
    {
      "cell_type": "markdown",
      "metadata": {
        "id": "jPlriVudY0oQ"
      },
      "source": [
        "### a) Specifying the Data Analytic Question"
      ]
    },
    {
      "cell_type": "markdown",
      "metadata": {
        "id": "jMfBNc0QY3xe"
      },
      "source": [
        "To carry out exploratory data analysis to identify the trends and causes of fatalities in Australian roads. "
      ]
    },
    {
      "cell_type": "markdown",
      "metadata": {
        "id": "n7FS_CQ5Y7Ni"
      },
      "source": [
        "### b) Defining the Metric for Success"
      ]
    },
    {
      "cell_type": "markdown",
      "metadata": {
        "id": "t59IPszgY8GW"
      },
      "source": [
        "To be able to carry out the analysis and identify trends in the road fatalities"
      ]
    },
    {
      "cell_type": "markdown",
      "metadata": {
        "id": "XZZUR89DY81m"
      },
      "source": [
        "### c) Understanding the context "
      ]
    },
    {
      "cell_type": "markdown",
      "metadata": {
        "id": "nlL0T7QTZAJ5"
      },
      "source": [
        "According to research, there have been more than 189,000 deaths on Australia’s roads. Approximately four people die and 90 people are seriously injured each day. The cost of road trauma to the Australian community is tragic and widespread.\n",
        "Our project focuses on analyzing crash fatalities data in Australia according to several factors, including gender, age, state,  age group, type of road users, day of the week, and time of the week.\n"
      ]
    },
    {
      "cell_type": "markdown",
      "metadata": {
        "id": "OAwlRFioZA9z"
      },
      "source": [
        "### d) Recording the Experimental Design"
      ]
    },
    {
      "cell_type": "markdown",
      "metadata": {
        "id": "cZFT8LVRZD4P"
      },
      "source": [
        "1. Loading the dataset to the environment\n",
        "2. Previewing the data\n",
        "3. Performing data cleaning\n",
        "4. Exploratory data analysis\n",
        "5. Hypothesis testing"
      ]
    },
    {
      "cell_type": "markdown",
      "metadata": {
        "id": "U3EzrniAZGCh"
      },
      "source": [
        "### e) Data Relevance"
      ]
    },
    {
      "cell_type": "markdown",
      "metadata": {
        "id": "hUSeDH_lZJCb"
      },
      "source": [
        "The data is relevant because it has up to date information on road accidents in Australia. This will allow us to analyze the data effectively."
      ]
    },
    {
      "cell_type": "markdown",
      "metadata": {
        "id": "2-cm1w42K_W0"
      },
      "source": [
        "## 2. Reading the data"
      ]
    },
    {
      "cell_type": "code",
      "metadata": {
        "id": "w5a-pJSCLIQ6"
      },
      "source": [
        "# Importing the libraries\n",
        "import numpy as np\n",
        "import pandas as pd\n",
        "import seaborn as sns\n",
        "import matplotlib.pyplot as plt"
      ],
      "execution_count": 1,
      "outputs": []
    },
    {
      "cell_type": "code",
      "metadata": {
        "id": "redUftWQLXCn"
      },
      "source": [
        "# Loading the data\n",
        "df = pd.read_csv('Crash_Data.csv')"
      ],
      "execution_count": 2,
      "outputs": []
    },
    {
      "cell_type": "markdown",
      "metadata": {
        "id": "YnuT8s3Gbv_u"
      },
      "source": [
        "## 3. Checking the Data"
      ]
    },
    {
      "cell_type": "code",
      "metadata": {
        "colab": {
          "base_uri": "https://localhost:8080/",
          "height": 417
        },
        "id": "CjuHyS88M0kW",
        "outputId": "4936b989-be51-4c06-c62b-84d120010f8b"
      },
      "source": [
        "# Previewing the data\n",
        "df.head()"
      ],
      "execution_count": 3,
      "outputs": [
        {
          "output_type": "execute_result",
          "data": {
            "text/html": [
              "<div>\n",
              "<style scoped>\n",
              "    .dataframe tbody tr th:only-of-type {\n",
              "        vertical-align: middle;\n",
              "    }\n",
              "\n",
              "    .dataframe tbody tr th {\n",
              "        vertical-align: top;\n",
              "    }\n",
              "\n",
              "    .dataframe thead th {\n",
              "        text-align: right;\n",
              "    }\n",
              "</style>\n",
              "<table border=\"1\" class=\"dataframe\">\n",
              "  <thead>\n",
              "    <tr style=\"text-align: right;\">\n",
              "      <th></th>\n",
              "      <th>Crash ID</th>\n",
              "      <th>State</th>\n",
              "      <th>Month</th>\n",
              "      <th>Year</th>\n",
              "      <th>Dayweek</th>\n",
              "      <th>Time</th>\n",
              "      <th>Crash Type</th>\n",
              "      <th>Bus Involvement</th>\n",
              "      <th>Heavy Rigid Truck Involvement</th>\n",
              "      <th>Articulated Truck Involvement</th>\n",
              "      <th>Speed Limit</th>\n",
              "      <th>Road User</th>\n",
              "      <th>Gender</th>\n",
              "      <th>Age</th>\n",
              "      <th>National Remoteness Areas</th>\n",
              "      <th>SA4 Name 2016</th>\n",
              "      <th>National LGA Name 2017</th>\n",
              "      <th>National Road Type</th>\n",
              "      <th>Christmas Period</th>\n",
              "      <th>Easter Period</th>\n",
              "      <th>Age Group</th>\n",
              "      <th>Day of week</th>\n",
              "      <th>Time of day</th>\n",
              "    </tr>\n",
              "  </thead>\n",
              "  <tbody>\n",
              "    <tr>\n",
              "      <th>0</th>\n",
              "      <td>20212133</td>\n",
              "      <td>Vic</td>\n",
              "      <td>9</td>\n",
              "      <td>2021</td>\n",
              "      <td>Sunday</td>\n",
              "      <td>0:30</td>\n",
              "      <td>Single</td>\n",
              "      <td>NaN</td>\n",
              "      <td>NaN</td>\n",
              "      <td>NaN</td>\n",
              "      <td>NaN</td>\n",
              "      <td>Motorcycle rider</td>\n",
              "      <td>Male</td>\n",
              "      <td>38</td>\n",
              "      <td>Inner Regional Australia</td>\n",
              "      <td>Melbourne - Outer East</td>\n",
              "      <td>Yarra Ranges (S)</td>\n",
              "      <td>Arterial Road</td>\n",
              "      <td>No</td>\n",
              "      <td>No</td>\n",
              "      <td>26_to_39</td>\n",
              "      <td>Weekend</td>\n",
              "      <td>Night</td>\n",
              "    </tr>\n",
              "    <tr>\n",
              "      <th>1</th>\n",
              "      <td>20214022</td>\n",
              "      <td>SA</td>\n",
              "      <td>9</td>\n",
              "      <td>2021</td>\n",
              "      <td>Saturday</td>\n",
              "      <td>23:31</td>\n",
              "      <td>Multiple</td>\n",
              "      <td>No</td>\n",
              "      <td>No</td>\n",
              "      <td>No</td>\n",
              "      <td>110</td>\n",
              "      <td>Pedestrian</td>\n",
              "      <td>Female</td>\n",
              "      <td>28</td>\n",
              "      <td>Major Cities of Australia</td>\n",
              "      <td>Adelaide - North</td>\n",
              "      <td>Playford (C)</td>\n",
              "      <td>NaN</td>\n",
              "      <td>No</td>\n",
              "      <td>No</td>\n",
              "      <td>26_to_39</td>\n",
              "      <td>Weekend</td>\n",
              "      <td>Night</td>\n",
              "    </tr>\n",
              "    <tr>\n",
              "      <th>2</th>\n",
              "      <td>20212096</td>\n",
              "      <td>Vic</td>\n",
              "      <td>9</td>\n",
              "      <td>2021</td>\n",
              "      <td>Saturday</td>\n",
              "      <td>23:00</td>\n",
              "      <td>Single</td>\n",
              "      <td>NaN</td>\n",
              "      <td>NaN</td>\n",
              "      <td>NaN</td>\n",
              "      <td>NaN</td>\n",
              "      <td>Passenger</td>\n",
              "      <td>Male</td>\n",
              "      <td>19</td>\n",
              "      <td>Inner Regional Australia</td>\n",
              "      <td>Hume</td>\n",
              "      <td>Wangaratta (RC)</td>\n",
              "      <td>Access road</td>\n",
              "      <td>No</td>\n",
              "      <td>No</td>\n",
              "      <td>17_to_25</td>\n",
              "      <td>Weekend</td>\n",
              "      <td>Night</td>\n",
              "    </tr>\n",
              "    <tr>\n",
              "      <th>3</th>\n",
              "      <td>20212145</td>\n",
              "      <td>Vic</td>\n",
              "      <td>9</td>\n",
              "      <td>2021</td>\n",
              "      <td>Saturday</td>\n",
              "      <td>22:25</td>\n",
              "      <td>Single</td>\n",
              "      <td>NaN</td>\n",
              "      <td>NaN</td>\n",
              "      <td>NaN</td>\n",
              "      <td>NaN</td>\n",
              "      <td>Driver</td>\n",
              "      <td>Male</td>\n",
              "      <td>23</td>\n",
              "      <td>Outer Regional Australia</td>\n",
              "      <td>Hume</td>\n",
              "      <td>Wangaratta (RC)</td>\n",
              "      <td>Arterial Road</td>\n",
              "      <td>No</td>\n",
              "      <td>No</td>\n",
              "      <td>17_to_25</td>\n",
              "      <td>Weekend</td>\n",
              "      <td>Night</td>\n",
              "    </tr>\n",
              "    <tr>\n",
              "      <th>4</th>\n",
              "      <td>20212075</td>\n",
              "      <td>Vic</td>\n",
              "      <td>9</td>\n",
              "      <td>2021</td>\n",
              "      <td>Saturday</td>\n",
              "      <td>5:15</td>\n",
              "      <td>Single</td>\n",
              "      <td>NaN</td>\n",
              "      <td>NaN</td>\n",
              "      <td>NaN</td>\n",
              "      <td>NaN</td>\n",
              "      <td>Motorcycle rider</td>\n",
              "      <td>Male</td>\n",
              "      <td>46</td>\n",
              "      <td>Major Cities of Australia</td>\n",
              "      <td>Melbourne - South East</td>\n",
              "      <td>Casey (C)</td>\n",
              "      <td>Local Road</td>\n",
              "      <td>No</td>\n",
              "      <td>No</td>\n",
              "      <td>40_to_64</td>\n",
              "      <td>Weekend</td>\n",
              "      <td>Night</td>\n",
              "    </tr>\n",
              "  </tbody>\n",
              "</table>\n",
              "</div>"
            ],
            "text/plain": [
              "   Crash ID State  Month  Year  ... Easter Period Age Group Day of week Time of day\n",
              "0  20212133   Vic      9  2021  ...            No  26_to_39     Weekend       Night\n",
              "1  20214022    SA      9  2021  ...            No  26_to_39     Weekend       Night\n",
              "2  20212096   Vic      9  2021  ...            No  17_to_25     Weekend       Night\n",
              "3  20212145   Vic      9  2021  ...            No  17_to_25     Weekend       Night\n",
              "4  20212075   Vic      9  2021  ...            No  40_to_64     Weekend       Night\n",
              "\n",
              "[5 rows x 23 columns]"
            ]
          },
          "metadata": {},
          "execution_count": 3
        }
      ]
    },
    {
      "cell_type": "code",
      "metadata": {
        "colab": {
          "base_uri": "https://localhost:8080/",
          "height": 382
        },
        "id": "m8ZF3aGEM6-0",
        "outputId": "fad0c535-8682-4314-d518-17c7ff4442a3"
      },
      "source": [
        "# Checking the tail\n",
        "df.tail()"
      ],
      "execution_count": 4,
      "outputs": [
        {
          "output_type": "execute_result",
          "data": {
            "text/html": [
              "<div>\n",
              "<style scoped>\n",
              "    .dataframe tbody tr th:only-of-type {\n",
              "        vertical-align: middle;\n",
              "    }\n",
              "\n",
              "    .dataframe tbody tr th {\n",
              "        vertical-align: top;\n",
              "    }\n",
              "\n",
              "    .dataframe thead th {\n",
              "        text-align: right;\n",
              "    }\n",
              "</style>\n",
              "<table border=\"1\" class=\"dataframe\">\n",
              "  <thead>\n",
              "    <tr style=\"text-align: right;\">\n",
              "      <th></th>\n",
              "      <th>Crash ID</th>\n",
              "      <th>State</th>\n",
              "      <th>Month</th>\n",
              "      <th>Year</th>\n",
              "      <th>Dayweek</th>\n",
              "      <th>Time</th>\n",
              "      <th>Crash Type</th>\n",
              "      <th>Bus Involvement</th>\n",
              "      <th>Heavy Rigid Truck Involvement</th>\n",
              "      <th>Articulated Truck Involvement</th>\n",
              "      <th>Speed Limit</th>\n",
              "      <th>Road User</th>\n",
              "      <th>Gender</th>\n",
              "      <th>Age</th>\n",
              "      <th>National Remoteness Areas</th>\n",
              "      <th>SA4 Name 2016</th>\n",
              "      <th>National LGA Name 2017</th>\n",
              "      <th>National Road Type</th>\n",
              "      <th>Christmas Period</th>\n",
              "      <th>Easter Period</th>\n",
              "      <th>Age Group</th>\n",
              "      <th>Day of week</th>\n",
              "      <th>Time of day</th>\n",
              "    </tr>\n",
              "  </thead>\n",
              "  <tbody>\n",
              "    <tr>\n",
              "      <th>6236</th>\n",
              "      <td>20163125</td>\n",
              "      <td>Qld</td>\n",
              "      <td>5</td>\n",
              "      <td>2016</td>\n",
              "      <td>Sunday</td>\n",
              "      <td>22:00</td>\n",
              "      <td>Single</td>\n",
              "      <td>No</td>\n",
              "      <td>No</td>\n",
              "      <td>No</td>\n",
              "      <td>40</td>\n",
              "      <td>Driver</td>\n",
              "      <td>Male</td>\n",
              "      <td>34</td>\n",
              "      <td>NaN</td>\n",
              "      <td>NaN</td>\n",
              "      <td>NaN</td>\n",
              "      <td>NaN</td>\n",
              "      <td>No</td>\n",
              "      <td>No</td>\n",
              "      <td>26_to_39</td>\n",
              "      <td>Weekend</td>\n",
              "      <td>Night</td>\n",
              "    </tr>\n",
              "    <tr>\n",
              "      <th>6237</th>\n",
              "      <td>20161319</td>\n",
              "      <td>NSW</td>\n",
              "      <td>5</td>\n",
              "      <td>2016</td>\n",
              "      <td>Saturday</td>\n",
              "      <td>19:56</td>\n",
              "      <td>Multiple</td>\n",
              "      <td>No</td>\n",
              "      <td>No</td>\n",
              "      <td>No</td>\n",
              "      <td>80</td>\n",
              "      <td>Driver</td>\n",
              "      <td>Female</td>\n",
              "      <td>89</td>\n",
              "      <td>Major Cities of Australia</td>\n",
              "      <td>Hunter Valley exc Newcastle</td>\n",
              "      <td>Port Stephens</td>\n",
              "      <td>National or State Highway</td>\n",
              "      <td>No</td>\n",
              "      <td>No</td>\n",
              "      <td>75_or_older</td>\n",
              "      <td>Weekend</td>\n",
              "      <td>Night</td>\n",
              "    </tr>\n",
              "    <tr>\n",
              "      <th>6238</th>\n",
              "      <td>20161224</td>\n",
              "      <td>NSW</td>\n",
              "      <td>5</td>\n",
              "      <td>2016</td>\n",
              "      <td>Sunday</td>\n",
              "      <td>5:50</td>\n",
              "      <td>Single</td>\n",
              "      <td>No</td>\n",
              "      <td>No</td>\n",
              "      <td>No</td>\n",
              "      <td>80</td>\n",
              "      <td>Driver</td>\n",
              "      <td>Female</td>\n",
              "      <td>33</td>\n",
              "      <td>Inner Regional Australia</td>\n",
              "      <td>Mid North Coast</td>\n",
              "      <td>Kempsey</td>\n",
              "      <td>National or State Highway</td>\n",
              "      <td>No</td>\n",
              "      <td>No</td>\n",
              "      <td>26_to_39</td>\n",
              "      <td>Weekend</td>\n",
              "      <td>Night</td>\n",
              "    </tr>\n",
              "    <tr>\n",
              "      <th>6239</th>\n",
              "      <td>20167019</td>\n",
              "      <td>NT</td>\n",
              "      <td>5</td>\n",
              "      <td>2016</td>\n",
              "      <td>Friday</td>\n",
              "      <td>18:20</td>\n",
              "      <td>Multiple</td>\n",
              "      <td>No</td>\n",
              "      <td>No</td>\n",
              "      <td>No</td>\n",
              "      <td>60</td>\n",
              "      <td>Driver</td>\n",
              "      <td>Male</td>\n",
              "      <td>34</td>\n",
              "      <td>Remote Australia</td>\n",
              "      <td>Northern Territory - Outback</td>\n",
              "      <td>Alice Springs (T)</td>\n",
              "      <td>National or State Highway</td>\n",
              "      <td>No</td>\n",
              "      <td>No</td>\n",
              "      <td>26_to_39</td>\n",
              "      <td>Weekend</td>\n",
              "      <td>Night</td>\n",
              "    </tr>\n",
              "    <tr>\n",
              "      <th>6240</th>\n",
              "      <td>20167019</td>\n",
              "      <td>NT</td>\n",
              "      <td>5</td>\n",
              "      <td>2016</td>\n",
              "      <td>Friday</td>\n",
              "      <td>18:20</td>\n",
              "      <td>Multiple</td>\n",
              "      <td>No</td>\n",
              "      <td>No</td>\n",
              "      <td>No</td>\n",
              "      <td>60</td>\n",
              "      <td>Passenger</td>\n",
              "      <td>Female</td>\n",
              "      <td>34</td>\n",
              "      <td>Remote Australia</td>\n",
              "      <td>Northern Ter</td>\n",
              "      <td>NaN</td>\n",
              "      <td>NaN</td>\n",
              "      <td>NaN</td>\n",
              "      <td>NaN</td>\n",
              "      <td>NaN</td>\n",
              "      <td>NaN</td>\n",
              "      <td>NaN</td>\n",
              "    </tr>\n",
              "  </tbody>\n",
              "</table>\n",
              "</div>"
            ],
            "text/plain": [
              "      Crash ID State  Month  ...    Age Group Day of week Time of day\n",
              "6236  20163125   Qld      5  ...     26_to_39     Weekend       Night\n",
              "6237  20161319   NSW      5  ...  75_or_older     Weekend       Night\n",
              "6238  20161224   NSW      5  ...     26_to_39     Weekend       Night\n",
              "6239  20167019    NT      5  ...     26_to_39     Weekend       Night\n",
              "6240  20167019    NT      5  ...          NaN         NaN         NaN\n",
              "\n",
              "[5 rows x 23 columns]"
            ]
          },
          "metadata": {},
          "execution_count": 4
        }
      ]
    },
    {
      "cell_type": "code",
      "metadata": {
        "colab": {
          "base_uri": "https://localhost:8080/"
        },
        "id": "tREntEn0NXoA",
        "outputId": "058ecd48-2ce8-4965-fd06-277ddf05f7f0"
      },
      "source": [
        "# Determining the no. of records in our dataset\n",
        "df.shape"
      ],
      "execution_count": 5,
      "outputs": [
        {
          "output_type": "execute_result",
          "data": {
            "text/plain": [
              "(6241, 23)"
            ]
          },
          "metadata": {},
          "execution_count": 5
        }
      ]
    },
    {
      "cell_type": "code",
      "metadata": {
        "colab": {
          "base_uri": "https://localhost:8080/"
        },
        "id": "zjmQSo0bNgXX",
        "outputId": "7e4b0d25-88db-4f04-cd80-0503a0c33e77"
      },
      "source": [
        "#Checking for unique values\n",
        "df.nunique()"
      ],
      "execution_count": 6,
      "outputs": [
        {
          "output_type": "execute_result",
          "data": {
            "text/plain": [
              "Crash ID                         5767\n",
              "State                               8\n",
              "Month                              12\n",
              "Year                                6\n",
              "Dayweek                             7\n",
              "Time                             1019\n",
              "Crash Type                          2\n",
              "Bus Involvement                     2\n",
              "Heavy Rigid Truck Involvement       2\n",
              "Articulated Truck Involvement       2\n",
              "Speed Limit                        17\n",
              "Road User                           7\n",
              "Gender                              3\n",
              "Age                               102\n",
              "National Remoteness Areas           5\n",
              "SA4 Name 2016                      89\n",
              "National LGA Name 2017            481\n",
              "National Road Type                 12\n",
              "Christmas Period                    2\n",
              "Easter Period                       2\n",
              "Age Group                           6\n",
              "Day of week                         2\n",
              "Time of day                         2\n",
              "dtype: int64"
            ]
          },
          "metadata": {},
          "execution_count": 6
        }
      ]
    },
    {
      "cell_type": "code",
      "metadata": {
        "id": "mwjl4QerNuVp",
        "colab": {
          "base_uri": "https://localhost:8080/"
        },
        "outputId": "7869ec9d-024a-4e07-9959-1546411fe9ac"
      },
      "source": [
        "# Checking whether each column has an appropriate datatype\n",
        "df.dtypes"
      ],
      "execution_count": 7,
      "outputs": [
        {
          "output_type": "execute_result",
          "data": {
            "text/plain": [
              "Crash ID                          int64\n",
              "State                            object\n",
              "Month                             int64\n",
              "Year                              int64\n",
              "Dayweek                          object\n",
              "Time                             object\n",
              "Crash Type                       object\n",
              "Bus Involvement                  object\n",
              "Heavy Rigid Truck Involvement    object\n",
              "Articulated Truck Involvement    object\n",
              "Speed Limit                      object\n",
              "Road User                        object\n",
              "Gender                           object\n",
              "Age                               int64\n",
              "National Remoteness Areas        object\n",
              "SA4 Name 2016                    object\n",
              "National LGA Name 2017           object\n",
              "National Road Type               object\n",
              "Christmas Period                 object\n",
              "Easter Period                    object\n",
              "Age Group                        object\n",
              "Day of week                      object\n",
              "Time of day                      object\n",
              "dtype: object"
            ]
          },
          "metadata": {},
          "execution_count": 7
        }
      ]
    },
    {
      "cell_type": "code",
      "metadata": {
        "colab": {
          "base_uri": "https://localhost:8080/"
        },
        "id": "dS53SuBYOY6s",
        "outputId": "b6e3d7d2-afaf-4a43-d5e3-bdf5adc8b6db"
      },
      "source": [
        "# Identifying the Missing Data\n",
        "df.isnull().sum()"
      ],
      "execution_count": 8,
      "outputs": [
        {
          "output_type": "execute_result",
          "data": {
            "text/plain": [
              "Crash ID                           0\n",
              "State                              0\n",
              "Month                              0\n",
              "Year                               0\n",
              "Dayweek                            0\n",
              "Time                               0\n",
              "Crash Type                         0\n",
              "Bus Involvement                   22\n",
              "Heavy Rigid Truck Involvement     22\n",
              "Articulated Truck Involvement     22\n",
              "Speed Limit                       76\n",
              "Road User                          0\n",
              "Gender                             6\n",
              "Age                                0\n",
              "National Remoteness Areas        903\n",
              "SA4 Name 2016                    891\n",
              "National LGA Name 2017           898\n",
              "National Road Type               907\n",
              "Christmas Period                   1\n",
              "Easter Period                      1\n",
              "Age Group                         11\n",
              "Day of week                        1\n",
              "Time of day                        1\n",
              "dtype: int64"
            ]
          },
          "metadata": {},
          "execution_count": 8
        }
      ]
    },
    {
      "cell_type": "markdown",
      "metadata": {
        "id": "V86ysYKiWpet"
      },
      "source": [
        "## 4. External Data Source Validation"
      ]
    },
    {
      "cell_type": "markdown",
      "metadata": {
        "id": "hEDii2UeWs-X"
      },
      "source": [
        "It is from the Australian government. From their database of Australian Road Deaths Database (ARDD). It was conducted by the Bureau of Infrastructure and Transport Research Economics. It was then uploaded to Kaggle, by \"Deep Contractor\". The link to the original dataset is [here](https://data.gov.au/dataset/ds-dga-5b530fb8-526e-4fbf-b0f6-aa24e84e4277/details?q=ardd) "
      ]
    },
    {
      "cell_type": "markdown",
      "metadata": {
        "id": "ukg5buA6K8kW"
      },
      "source": [
        "## 5. Cleaning"
      ]
    },
    {
      "cell_type": "code",
      "metadata": {
        "id": "4fPE-OZTNCZ9"
      },
      "source": [
        "# 1. Dropping the columns with null values\n",
        "# Drop National Remoteness Areas, SA4 Name 2016, National LGA Name 2017, National Road Type\n",
        "# Due to missing values \n",
        "df = df.drop([\"National Remoteness Areas\", \"SA4 Name 2016\", \"National LGA Name 2017\", \"National Road Type\", \"Heavy Rigid Truck Involvement\"], axis = 1)"
      ],
      "execution_count": 9,
      "outputs": []
    },
    {
      "cell_type": "code",
      "metadata": {
        "id": "9RHnKcBTPvS0"
      },
      "source": [
        "# 2. Dropping null values\n",
        "df = df.dropna(axis = 0)"
      ],
      "execution_count": 10,
      "outputs": []
    },
    {
      "cell_type": "code",
      "metadata": {
        "colab": {
          "base_uri": "https://localhost:8080/"
        },
        "id": "GL-DhzBJRxQp",
        "outputId": "b2b2571d-a026-4d27-bf77-f052d8357925"
      },
      "source": [
        "#  Confirming that there are no null values\n",
        "df.isnull().sum()"
      ],
      "execution_count": 11,
      "outputs": [
        {
          "output_type": "execute_result",
          "data": {
            "text/plain": [
              "Crash ID                         0\n",
              "State                            0\n",
              "Month                            0\n",
              "Year                             0\n",
              "Dayweek                          0\n",
              "Time                             0\n",
              "Crash Type                       0\n",
              "Bus Involvement                  0\n",
              "Articulated Truck Involvement    0\n",
              "Speed Limit                      0\n",
              "Road User                        0\n",
              "Gender                           0\n",
              "Age                              0\n",
              "Christmas Period                 0\n",
              "Easter Period                    0\n",
              "Age Group                        0\n",
              "Day of week                      0\n",
              "Time of day                      0\n",
              "dtype: int64"
            ]
          },
          "metadata": {},
          "execution_count": 11
        }
      ]
    },
    {
      "cell_type": "code",
      "metadata": {
        "id": "Lx2XHt49Rzar"
      },
      "source": [
        "# 3. Conversion time column to datetime data type\n",
        "df[\"Time\"] = pd.to_datetime(df[\"Time\"])"
      ],
      "execution_count": 12,
      "outputs": []
    },
    {
      "cell_type": "code",
      "metadata": {
        "colab": {
          "base_uri": "https://localhost:8080/"
        },
        "id": "EO8aThXZS--M",
        "outputId": "686ca536-8695-4710-a33e-3332a1fd227f"
      },
      "source": [
        "#checking the data types\n",
        "df.dtypes"
      ],
      "execution_count": 13,
      "outputs": [
        {
          "output_type": "execute_result",
          "data": {
            "text/plain": [
              "Crash ID                                  int64\n",
              "State                                    object\n",
              "Month                                     int64\n",
              "Year                                      int64\n",
              "Dayweek                                  object\n",
              "Time                             datetime64[ns]\n",
              "Crash Type                               object\n",
              "Bus Involvement                          object\n",
              "Articulated Truck Involvement            object\n",
              "Speed Limit                              object\n",
              "Road User                                object\n",
              "Gender                                   object\n",
              "Age                                       int64\n",
              "Christmas Period                         object\n",
              "Easter Period                            object\n",
              "Age Group                                object\n",
              "Day of week                              object\n",
              "Time of day                              object\n",
              "dtype: object"
            ]
          },
          "metadata": {},
          "execution_count": 13
        }
      ]
    },
    {
      "cell_type": "code",
      "metadata": {
        "colab": {
          "base_uri": "https://localhost:8080/",
          "height": 300
        },
        "id": "UMc1onEpTBZP",
        "outputId": "484d3225-8d12-4915-90f1-a91e19e57eef"
      },
      "source": [
        "# 4. Checking for outliers\n",
        "df.describe()"
      ],
      "execution_count": 14,
      "outputs": [
        {
          "output_type": "execute_result",
          "data": {
            "text/html": [
              "<div>\n",
              "<style scoped>\n",
              "    .dataframe tbody tr th:only-of-type {\n",
              "        vertical-align: middle;\n",
              "    }\n",
              "\n",
              "    .dataframe tbody tr th {\n",
              "        vertical-align: top;\n",
              "    }\n",
              "\n",
              "    .dataframe thead th {\n",
              "        text-align: right;\n",
              "    }\n",
              "</style>\n",
              "<table border=\"1\" class=\"dataframe\">\n",
              "  <thead>\n",
              "    <tr style=\"text-align: right;\">\n",
              "      <th></th>\n",
              "      <th>Crash ID</th>\n",
              "      <th>Month</th>\n",
              "      <th>Year</th>\n",
              "      <th>Age</th>\n",
              "    </tr>\n",
              "  </thead>\n",
              "  <tbody>\n",
              "    <tr>\n",
              "      <th>count</th>\n",
              "      <td>6.149000e+03</td>\n",
              "      <td>6149.000000</td>\n",
              "      <td>6149.000000</td>\n",
              "      <td>6149.000000</td>\n",
              "    </tr>\n",
              "    <tr>\n",
              "      <th>mean</th>\n",
              "      <td>2.018782e+07</td>\n",
              "      <td>6.641730</td>\n",
              "      <td>2018.489348</td>\n",
              "      <td>44.691495</td>\n",
              "    </tr>\n",
              "    <tr>\n",
              "      <th>std</th>\n",
              "      <td>1.599923e+04</td>\n",
              "      <td>3.394706</td>\n",
              "      <td>1.586302</td>\n",
              "      <td>21.954505</td>\n",
              "    </tr>\n",
              "    <tr>\n",
              "      <th>min</th>\n",
              "      <td>2.016100e+07</td>\n",
              "      <td>1.000000</td>\n",
              "      <td>2016.000000</td>\n",
              "      <td>0.000000</td>\n",
              "    </tr>\n",
              "    <tr>\n",
              "      <th>25%</th>\n",
              "      <td>2.017313e+07</td>\n",
              "      <td>4.000000</td>\n",
              "      <td>2017.000000</td>\n",
              "      <td>26.000000</td>\n",
              "    </tr>\n",
              "    <tr>\n",
              "      <th>50%</th>\n",
              "      <td>2.018703e+07</td>\n",
              "      <td>7.000000</td>\n",
              "      <td>2018.000000</td>\n",
              "      <td>42.000000</td>\n",
              "    </tr>\n",
              "    <tr>\n",
              "      <th>75%</th>\n",
              "      <td>2.020206e+07</td>\n",
              "      <td>9.000000</td>\n",
              "      <td>2020.000000</td>\n",
              "      <td>62.000000</td>\n",
              "    </tr>\n",
              "    <tr>\n",
              "      <th>max</th>\n",
              "      <td>2.021801e+07</td>\n",
              "      <td>12.000000</td>\n",
              "      <td>2021.000000</td>\n",
              "      <td>101.000000</td>\n",
              "    </tr>\n",
              "  </tbody>\n",
              "</table>\n",
              "</div>"
            ],
            "text/plain": [
              "           Crash ID        Month         Year          Age\n",
              "count  6.149000e+03  6149.000000  6149.000000  6149.000000\n",
              "mean   2.018782e+07     6.641730  2018.489348    44.691495\n",
              "std    1.599923e+04     3.394706     1.586302    21.954505\n",
              "min    2.016100e+07     1.000000  2016.000000     0.000000\n",
              "25%    2.017313e+07     4.000000  2017.000000    26.000000\n",
              "50%    2.018703e+07     7.000000  2018.000000    42.000000\n",
              "75%    2.020206e+07     9.000000  2020.000000    62.000000\n",
              "max    2.021801e+07    12.000000  2021.000000   101.000000"
            ]
          },
          "metadata": {},
          "execution_count": 14
        }
      ]
    },
    {
      "cell_type": "code",
      "metadata": {
        "colab": {
          "base_uri": "https://localhost:8080/",
          "height": 350
        },
        "id": "nS3zGuekTRXO",
        "outputId": "ff760262-d81c-48ab-83a4-ec615a97efcc"
      },
      "source": [
        "#plot a box plot to check for outliers\n",
        "plt.title(\"Age plot\")\n",
        "sns.boxplot(df['Age'])\n",
        "plt.show()\n",
        "\n",
        "# we noticed that there no outliers"
      ],
      "execution_count": 15,
      "outputs": [
        {
          "output_type": "stream",
          "name": "stderr",
          "text": [
            "/usr/local/lib/python3.7/dist-packages/seaborn/_decorators.py:43: FutureWarning: Pass the following variable as a keyword arg: x. From version 0.12, the only valid positional argument will be `data`, and passing other arguments without an explicit keyword will result in an error or misinterpretation.\n",
            "  FutureWarning\n"
          ]
        },
        {
          "output_type": "display_data",
          "data": {
            "image/png": "[encoded data removed]",
            "text/plain": [
              "<Figure size 432x288 with 1 Axes>"
            ]
          },
          "metadata": {
            "needs_background": "light"
          }
        }
      ]
    },
    {
      "cell_type": "code",
      "metadata": {
        "colab": {
          "base_uri": "https://localhost:8080/"
        },
        "id": "JT2vNsRFT3aA",
        "outputId": "79e89d81-6d13-492f-e81c-05e4403dc217"
      },
      "source": [
        "# 5. Check for duplicates\n",
        "df.duplicated().sum()"
      ],
      "execution_count": 16,
      "outputs": [
        {
          "output_type": "execute_result",
          "data": {
            "text/plain": [
              "6"
            ]
          },
          "metadata": {},
          "execution_count": 16
        }
      ]
    },
    {
      "cell_type": "code",
      "metadata": {
        "id": "uSyrSpJwVk7y"
      },
      "source": [
        "#Droping duplicates\n",
        "df = df.drop_duplicates()"
      ],
      "execution_count": 17,
      "outputs": []
    },
    {
      "cell_type": "code",
      "metadata": {
        "colab": {
          "base_uri": "https://localhost:8080/"
        },
        "id": "cqQuvnuaWJlT",
        "outputId": "8cee068c-1921-4bfc-9bf2-6701ebfffb95"
      },
      "source": [
        "df.duplicated().sum()"
      ],
      "execution_count": 18,
      "outputs": [
        {
          "output_type": "execute_result",
          "data": {
            "text/plain": [
              "0"
            ]
          },
          "metadata": {},
          "execution_count": 18
        }
      ]
    },
    {
      "cell_type": "markdown",
      "metadata": {
        "id": "anxdj9eqWfOu"
      },
      "source": [
        "## 6. Exploratory Analysis"
      ]
    },
    {
      "cell_type": "markdown",
      "metadata": {
        "id": "VTu4N2d9Yfkv"
      },
      "source": [
        "#### Univariate"
      ]
    },
    {
      "cell_type": "code",
      "metadata": {
        "colab": {
          "base_uri": "https://localhost:8080/"
        },
        "id": "j-bCZ7nimd-i",
        "outputId": "195921f3-717d-4afb-b1ad-d8b25064bb85"
      },
      "source": [
        "df[\"State\"].value_counts()"
      ],
      "execution_count": 19,
      "outputs": [
        {
          "output_type": "execute_result",
          "data": {
            "text/plain": [
              "NSW    1795\n",
              "Qld    1341\n",
              "Vic    1237\n",
              "WA      846\n",
              "SA      509\n",
              "NT      202\n",
              "Tas     173\n",
              "ACT      40\n",
              "Name: State, dtype: int64"
            ]
          },
          "metadata": {},
          "execution_count": 19
        }
      ]
    },
    {
      "cell_type": "code",
      "metadata": {
        "colab": {
          "base_uri": "https://localhost:8080/",
          "height": 313
        },
        "id": "v1HvJYGJkFww",
        "outputId": "2f70e9e8-e616-475e-abb7-7489b47b64fe"
      },
      "source": [
        "#creating a histogram for number of crashes in different states\n",
        "plt.hist(df[\"State\"], bins=10, histtype='bar', rwidth=0.9)\n",
        "plt.xlabel('State')\n",
        "plt.ylabel('Crashes number')\n",
        "plt.title('Distribution of Crashes per State') \n",
        "plt.figure(figsize=(4, 3))\n",
        "plt.show()"
      ],
      "execution_count": 20,
      "outputs": [
        {
          "output_type": "display_data",
          "data": {
            "image/png": "[encoded data removed]",
            "text/plain": [
              "<Figure size 432x288 with 1 Axes>"
            ]
          },
          "metadata": {
            "needs_background": "light"
          }
        },
        {
          "output_type": "display_data",
          "data": {
            "text/plain": [
              "<Figure size 288x216 with 0 Axes>"
            ]
          },
          "metadata": {}
        }
      ]
    },
    {
      "cell_type": "code",
      "metadata": {
        "colab": {
          "base_uri": "https://localhost:8080/"
        },
        "id": "w0zfvulvmZZp",
        "outputId": "2d898c4f-1f41-4f20-8b59-42a3e6d634a4"
      },
      "source": [
        "df[\"Crash Type\"].value_counts()"
      ],
      "execution_count": 21,
      "outputs": [
        {
          "output_type": "execute_result",
          "data": {
            "text/plain": [
              "Single      3467\n",
              "Multiple    2676\n",
              "Name: Crash Type, dtype: int64"
            ]
          },
          "metadata": {},
          "execution_count": 21
        }
      ]
    },
    {
      "cell_type": "code",
      "metadata": {
        "colab": {
          "base_uri": "https://localhost:8080/",
          "height": 313
        },
        "id": "Rq6dOLGWlCUH",
        "outputId": "aff57614-9b22-49dc-9471-7fbcc2704f17"
      },
      "source": [
        "#creating a histogram for types of crashes\n",
        "plt.hist(df[\"Crash Type\"], bins=2, histtype='bar', rwidth=0.9)\n",
        "plt.xlabel('Crash Type')\n",
        "plt.ylabel('Crashes number')\n",
        "plt.title('Distribution of Crashes per Crash Type') \n",
        "plt.figure(figsize=(4, 3))\n",
        "plt.show()"
      ],
      "execution_count": 22,
      "outputs": [
        {
          "output_type": "display_data",
          "data": {
            "image/png": "[encoded data removed]",
            "text/plain": [
              "<Figure size 432x288 with 1 Axes>"
            ]
          },
          "metadata": {
            "needs_background": "light"
          }
        },
        {
          "output_type": "display_data",
          "data": {
            "text/plain": [
              "<Figure size 288x216 with 0 Axes>"
            ]
          },
          "metadata": {}
        }
      ]
    },
    {
      "cell_type": "code",
      "metadata": {
        "colab": {
          "base_uri": "https://localhost:8080/"
        },
        "id": "qH87263LlsnX",
        "outputId": "898fbb10-9fa6-484d-cd24-fddbee77d56a"
      },
      "source": [
        "df[\"Road User\"].value_counts()"
      ],
      "execution_count": 23,
      "outputs": [
        {
          "output_type": "execute_result",
          "data": {
            "text/plain": [
              "Driver                          2932\n",
              "Motorcycle rider                1081\n",
              "Passenger                       1056\n",
              "Pedestrian                       832\n",
              "Pedal cyclist                    190\n",
              "Other/-9                          26\n",
              "Motorcycle pillion passenger      26\n",
              "Name: Road User, dtype: int64"
            ]
          },
          "metadata": {},
          "execution_count": 23
        }
      ]
    },
    {
      "cell_type": "code",
      "metadata": {
        "colab": {
          "base_uri": "https://localhost:8080/",
          "height": 295
        },
        "id": "JY-g-y-4lLFz",
        "outputId": "6f2ee38b-636f-4c8f-b7d7-f553802d3130"
      },
      "source": [
        "\n",
        "#creating a histogram for number of crashes for different road users\n",
        "plt.figure(figsize=(14, 4))\n",
        "plt.hist(df[\"Road User\"], bins=7, histtype='bar', rwidth=0.9)\n",
        "plt.xlabel('Road User')\n",
        "plt.ylabel('Crashes number')\n",
        "plt.title('Distribution of Crashes per Road User') \n",
        "plt.show()"
      ],
      "execution_count": 24,
      "outputs": [
        {
          "output_type": "display_data",
          "data": {
            "image/png": "[encoded data removed]",
            "text/plain": [
              "<Figure size 1008x288 with 1 Axes>"
            ]
          },
          "metadata": {
            "needs_background": "light"
          }
        }
      ]
    },
    {
      "cell_type": "markdown",
      "metadata": {
        "id": "HSjaZMMrcKKH"
      },
      "source": [
        "Specific objective: To determine the number of road fatalities experienced  by different age groups"
      ]
    },
    {
      "cell_type": "code",
      "metadata": {
        "colab": {
          "base_uri": "https://localhost:8080/"
        },
        "id": "8S8nYnFnmmop",
        "outputId": "78bd2b97-fd43-487f-c67e-fcd6d4a618fd"
      },
      "source": [
        "df[\"Age\"].value_counts(bins = 10, sort = False)"
      ],
      "execution_count": 25,
      "outputs": [
        {
          "output_type": "execute_result",
          "data": {
            "text/plain": [
              "(-0.10200000000000001, 10.1]     138\n",
              "(10.1, 20.2]                     685\n",
              "(20.2, 30.3]                    1240\n",
              "(30.3, 40.4]                     904\n",
              "(40.4, 50.5]                     836\n",
              "(50.5, 60.6]                     726\n",
              "(60.6, 70.7]                     628\n",
              "(70.7, 80.8]                     534\n",
              "(80.8, 90.9]                     372\n",
              "(90.9, 101.0]                     80\n",
              "Name: Age, dtype: int64"
            ]
          },
          "metadata": {},
          "execution_count": 25
        }
      ]
    },
    {
      "cell_type": "code",
      "metadata": {
        "id": "f1_emnTUWK63",
        "colab": {
          "base_uri": "https://localhost:8080/",
          "height": 313
        },
        "outputId": "e314d2ef-a8de-45de-b941-37fdf9617ada"
      },
      "source": [
        "#creating a histogram for number of crashes for different ages\n",
        "plt.hist(df[\"Age\"], bins=10, histtype='bar', rwidth=0.9)\n",
        "plt.xlabel('Age')\n",
        "plt.ylabel('Crashes number')\n",
        "plt.title('Distribution of Crashes per age') \n",
        "plt.figure(figsize=(4, 3))\n",
        "plt.show()"
      ],
      "execution_count": 26,
      "outputs": [
        {
          "output_type": "display_data",
          "data": {
            "image/png": "[encoded data removed]",
            "text/plain": [
              "<Figure size 432x288 with 1 Axes>"
            ]
          },
          "metadata": {
            "needs_background": "light"
          }
        },
        {
          "output_type": "display_data",
          "data": {
            "text/plain": [
              "<Figure size 288x216 with 0 Axes>"
            ]
          },
          "metadata": {}
        }
      ]
    },
    {
      "cell_type": "markdown",
      "metadata": {
        "id": "VT6ddaIkd4T-"
      },
      "source": [
        "Specific objective: To determine the number of road fatalities experienced  by gender"
      ]
    },
    {
      "cell_type": "code",
      "metadata": {
        "colab": {
          "base_uri": "https://localhost:8080/"
        },
        "id": "TsJGIglTm_MY",
        "outputId": "a63370dc-5969-4767-956b-7b811f0ecfd9"
      },
      "source": [
        "df[\"Gender\"].value_counts()"
      ],
      "execution_count": 27,
      "outputs": [
        {
          "output_type": "execute_result",
          "data": {
            "text/plain": [
              "Male           4563\n",
              "Female         1579\n",
              "Unspecified       1\n",
              "Name: Gender, dtype: int64"
            ]
          },
          "metadata": {},
          "execution_count": 27
        }
      ]
    },
    {
      "cell_type": "code",
      "metadata": {
        "colab": {
          "base_uri": "https://localhost:8080/",
          "height": 313
        },
        "id": "LpAk_oX7dDCU",
        "outputId": "b9e09206-ee74-4f95-8f6e-b43060e0f5be"
      },
      "source": [
        "#creating a histogram for number of crashes per gender\n",
        "plt.hist(df[\"Gender\"], histtype='bar', rwidth=0.9, bins = 3)\n",
        "plt.xlabel('Gender')\n",
        "plt.ylabel('Crashes number')\n",
        "plt.title('Distribution of Crashes per Gender') \n",
        "plt.figure(figsize=(4, 3))\n",
        "plt.show()"
      ],
      "execution_count": 28,
      "outputs": [
        {
          "output_type": "display_data",
          "data": {
            "image/png": "[encoded data removed]",
            "text/plain": [
              "<Figure size 432x288 with 1 Axes>"
            ]
          },
          "metadata": {
            "needs_background": "light"
          }
        },
        {
          "output_type": "display_data",
          "data": {
            "text/plain": [
              "<Figure size 288x216 with 0 Axes>"
            ]
          },
          "metadata": {}
        }
      ]
    },
    {
      "cell_type": "markdown",
      "metadata": {
        "id": "oHR53-kAebvB"
      },
      "source": [
        "Specific objective: To determine the number of road fatalities occurring on different days of the week"
      ]
    },
    {
      "cell_type": "code",
      "metadata": {
        "colab": {
          "base_uri": "https://localhost:8080/"
        },
        "id": "7AGIEE9UnM77",
        "outputId": "6b9a6afe-3121-43dd-bd6d-24ab71f5147d"
      },
      "source": [
        "df[\"Dayweek\"].value_counts()"
      ],
      "execution_count": 29,
      "outputs": [
        {
          "output_type": "execute_result",
          "data": {
            "text/plain": [
              "Saturday     1083\n",
              "Sunday        983\n",
              "Friday        970\n",
              "Thursday      806\n",
              "Wednesday     795\n",
              "Monday        755\n",
              "Tuesday       751\n",
              "Name: Dayweek, dtype: int64"
            ]
          },
          "metadata": {},
          "execution_count": 29
        }
      ]
    },
    {
      "cell_type": "code",
      "metadata": {
        "colab": {
          "base_uri": "https://localhost:8080/",
          "height": 313
        },
        "id": "bMWaJGm-eHlP",
        "outputId": "2d0e12d6-f5f6-45e1-b052-f867e11e0c1d"
      },
      "source": [
        "plt.hist(df[\"Dayweek\"], histtype='bar', rwidth=0.9, bins = 7)\n",
        "plt.xlabel('Dayweek')\n",
        "plt.ylabel('Crashes number')\n",
        "plt.title('Distribution of Crashes per Day of week') \n",
        "plt.figure(figsize=(4, 3))\n",
        "plt.show()"
      ],
      "execution_count": 30,
      "outputs": [
        {
          "output_type": "display_data",
          "data": {
            "image/png": "[encoded data removed]",
            "text/plain": [
              "<Figure size 432x288 with 1 Axes>"
            ]
          },
          "metadata": {
            "needs_background": "light"
          }
        },
        {
          "output_type": "display_data",
          "data": {
            "text/plain": [
              "<Figure size 288x216 with 0 Axes>"
            ]
          },
          "metadata": {}
        }
      ]
    },
    {
      "cell_type": "code",
      "metadata": {
        "colab": {
          "base_uri": "https://localhost:8080/"
        },
        "id": "SuGQZVLqchPH",
        "outputId": "0922c94f-a2ad-4166-a61a-5c45d605aaab"
      },
      "source": [
        "df['Age Group'].value_counts()"
      ],
      "execution_count": 31,
      "outputs": [
        {
          "output_type": "execute_result",
          "data": {
            "text/plain": [
              "40_to_64       1928\n",
              "26_to_39       1391\n",
              "17_to_25       1210\n",
              "75_or_older     777\n",
              "65_to_74        556\n",
              "0_to_16         281\n",
              "Name: Age Group, dtype: int64"
            ]
          },
          "metadata": {},
          "execution_count": 31
        }
      ]
    },
    {
      "cell_type": "code",
      "metadata": {
        "colab": {
          "base_uri": "https://localhost:8080/",
          "height": 313
        },
        "id": "_LZoRydgdSV2",
        "outputId": "6b6cdcc3-4de0-42ff-d5e8-e483788faae5"
      },
      "source": [
        "#creating a histogram for no.crashes for differenyt age groups\n",
        "plt.hist(df[\"Age Group\"], histtype='bar', rwidth=0.9, bins = 6)\n",
        "plt.xlabel('Age Group')\n",
        "plt.ylabel('Crashes number')\n",
        "plt.title('Number of fatalities per age group') \n",
        "plt.figure(figsize=(4, 3))\n",
        "plt.show()"
      ],
      "execution_count": 32,
      "outputs": [
        {
          "output_type": "display_data",
          "data": {
            "image/png": "[encoded data removed]",
            "text/plain": [
              "<Figure size 432x288 with 1 Axes>"
            ]
          },
          "metadata": {
            "needs_background": "light"
          }
        },
        {
          "output_type": "display_data",
          "data": {
            "text/plain": [
              "<Figure size 288x216 with 0 Axes>"
            ]
          },
          "metadata": {}
        }
      ]
    },
    {
      "cell_type": "code",
      "metadata": {
        "colab": {
          "base_uri": "https://localhost:8080/"
        },
        "id": "_EMYIT3Kz1QX",
        "outputId": "a33e4afb-6043-460c-efda-8f9c591be84e"
      },
      "source": [
        "#summary for the age column \n",
        "df['Age'].describe()"
      ],
      "execution_count": 33,
      "outputs": [
        {
          "output_type": "execute_result",
          "data": {
            "text/plain": [
              "count    6143.000000\n",
              "mean       44.718379\n",
              "std        21.948227\n",
              "min         0.000000\n",
              "25%        26.000000\n",
              "50%        42.000000\n",
              "75%        62.000000\n",
              "max       101.000000\n",
              "Name: Age, dtype: float64"
            ]
          },
          "metadata": {},
          "execution_count": 33
        }
      ]
    },
    {
      "cell_type": "markdown",
      "metadata": {
        "id": "VzP1V4UogjYB"
      },
      "source": [
        "#### Bivariate"
      ]
    },
    {
      "cell_type": "markdown",
      "metadata": {
        "id": "RD3kMwpAfkM9"
      },
      "source": [
        "Specific objective: To determine the number of road fatalities occurring at different times of the day."
      ]
    },
    {
      "cell_type": "code",
      "metadata": {
        "id": "JTYW4FoOewzJ",
        "colab": {
          "base_uri": "https://localhost:8080/",
          "height": 350
        },
        "outputId": "31e6222e-b113-46a1-d734-24159db37a60"
      },
      "source": [
        "#Stacked column chart for days of week vs time of the day\n",
        "plt.figure(figsize=(9, 5))\n",
        "sns.histplot(x = df[\"Dayweek\"], hue = df[\"Time of day\"])\n",
        "plt.xlabel('Day of week')\n",
        "plt.ylabel('Crashes number')\n",
        "plt.title('Distribution of Crashes per Day of week') \n",
        "plt.show()"
      ],
      "execution_count": 34,
      "outputs": [
        {
          "output_type": "display_data",
          "data": {
            "image/png": "[encoded data removed]",
            "text/plain": [
              "<Figure size 648x360 with 1 Axes>"
            ]
          },
          "metadata": {
            "needs_background": "light"
          }
        }
      ]
    },
    {
      "cell_type": "code",
      "metadata": {
        "colab": {
          "base_uri": "https://localhost:8080/",
          "height": 350
        },
        "id": "peo156B-tr0C",
        "outputId": "7efb5192-267a-4c3d-cd1b-3e1076b03498"
      },
      "source": [
        "#Stacked column chart of day of week vs christmass period\n",
        "plt.figure(figsize=(9, 5))\n",
        "sns.histplot(x = df[\"Dayweek\"], hue = df[\"Christmas Period\"])\n",
        "plt.xlabel('Day of week')\n",
        "plt.ylabel('Crashes number')\n",
        "plt.title('Distribution of Crashes per Day of week') \n",
        "plt.show()"
      ],
      "execution_count": 35,
      "outputs": [
        {
          "output_type": "display_data",
          "data": {
            "image/png": "[encoded data removed]",
            "text/plain": [
              "<Figure size 648x360 with 1 Axes>"
            ]
          },
          "metadata": {
            "needs_background": "light"
          }
        }
      ]
    },
    {
      "cell_type": "code",
      "metadata": {
        "colab": {
          "base_uri": "https://localhost:8080/"
        },
        "id": "ZO3T5XJQuCqs",
        "outputId": "dbab3691-b680-4c23-c6ab-662d6e3f24d0"
      },
      "source": [
        "df[[\"Dayweek\", \"Christmas Period\"]].value_counts(sort = False)"
      ],
      "execution_count": 36,
      "outputs": [
        {
          "output_type": "execute_result",
          "data": {
            "text/plain": [
              "Dayweek    Christmas Period\n",
              "Friday     No                   947\n",
              "           Yes                   23\n",
              "Monday     No                   720\n",
              "           Yes                   35\n",
              "Saturday   No                  1064\n",
              "           Yes                   19\n",
              "Sunday     No                   961\n",
              "           Yes                   22\n",
              "Thursday   No                   779\n",
              "           Yes                   27\n",
              "Tuesday    No                   715\n",
              "           Yes                   36\n",
              "Wednesday  No                   764\n",
              "           Yes                   31\n",
              "dtype: int64"
            ]
          },
          "metadata": {},
          "execution_count": 36
        }
      ]
    },
    {
      "cell_type": "markdown",
      "metadata": {
        "id": "eRFw-1DzukY3"
      },
      "source": [
        "Because it is one day, few people travel. In that year."
      ]
    },
    {
      "cell_type": "code",
      "metadata": {
        "colab": {
          "base_uri": "https://localhost:8080/",
          "height": 350
        },
        "id": "BW7M0fihvZu0",
        "outputId": "bb24ffeb-dac1-45bf-d741-a3b461654e25"
      },
      "source": [
        "#Stacked column chart of day of week vs easter period\n",
        "plt.figure(figsize=(9, 5))\n",
        "sns.histplot(x = df[\"Dayweek\"], hue = df[\"Easter Period\"])\n",
        "plt.xlabel('Day of week')\n",
        "plt.ylabel('Crashes number')\n",
        "plt.title('Distribution of Crashes per Day of week') \n",
        "plt.show()"
      ],
      "execution_count": 37,
      "outputs": [
        {
          "output_type": "display_data",
          "data": {
            "image/png": "[encoded data removed]",
            "text/plain": [
              "<Figure size 648x360 with 1 Axes>"
            ]
          },
          "metadata": {
            "needs_background": "light"
          }
        }
      ]
    },
    {
      "cell_type": "code",
      "metadata": {
        "colab": {
          "base_uri": "https://localhost:8080/"
        },
        "id": "9EI6RBWwvmhc",
        "outputId": "9c040fa1-665c-42b7-a3f6-694a3d056dfe"
      },
      "source": [
        "df[[\"Dayweek\", \"Easter Period\"]].value_counts(sort = False)"
      ],
      "execution_count": 38,
      "outputs": [
        {
          "output_type": "execute_result",
          "data": {
            "text/plain": [
              "Dayweek    Easter Period\n",
              "Friday     No                949\n",
              "           Yes                21\n",
              "Monday     No                747\n",
              "           Yes                 8\n",
              "Saturday   No               1059\n",
              "           Yes                24\n",
              "Sunday     No                973\n",
              "           Yes                10\n",
              "Thursday   No                791\n",
              "           Yes                15\n",
              "Tuesday    No                751\n",
              "Wednesday  No                795\n",
              "dtype: int64"
            ]
          },
          "metadata": {},
          "execution_count": 38
        }
      ]
    },
    {
      "cell_type": "markdown",
      "metadata": {
        "id": "X7Xpt11Sv1Yl"
      },
      "source": [
        "They celebrate easter more than christmas. So they travel less. So there are fewer accidents"
      ]
    },
    {
      "cell_type": "markdown",
      "metadata": {
        "id": "acqk9_TSwegc"
      },
      "source": [
        "Specific objective: To determine the number of road fatalities over the period of 1989 to 2021"
      ]
    },
    {
      "cell_type": "code",
      "metadata": {
        "colab": {
          "base_uri": "https://localhost:8080/",
          "height": 283
        },
        "id": "_y3yd6_KoCuE",
        "outputId": "4ef62d3a-6e26-4c65-b51c-7b927c7e99e8"
      },
      "source": [
        "# Line graph for different years\n",
        "df['Year'].value_counts().plot.line(color = 'slateblue')"
      ],
      "execution_count": 39,
      "outputs": [
        {
          "output_type": "execute_result",
          "data": {
            "text/plain": [
              "<matplotlib.axes._subplots.AxesSubplot at 0x7f661dd1af10>"
            ]
          },
          "metadata": {},
          "execution_count": 39
        },
        {
          "output_type": "display_data",
          "data": {
            "image/png": "[encoded data removed]",
            "text/plain": [
              "<Figure size 432x288 with 1 Axes>"
            ]
          },
          "metadata": {
            "needs_background": "light"
          }
        }
      ]
    },
    {
      "cell_type": "markdown",
      "metadata": {
        "id": "pIfGtWporRQZ"
      },
      "source": [
        "During the 1990's, there was bad road networks. There was bad training. Technology has improved that has improved safety."
      ]
    },
    {
      "cell_type": "code",
      "metadata": {
        "colab": {
          "base_uri": "https://localhost:8080/",
          "height": 283
        },
        "id": "t-5wnGcGrtJu",
        "outputId": "fdf0dfbf-62bd-45c9-ef24-0da67a34ca1a"
      },
      "source": [
        "# Line graph for monthly data points\n",
        "df['Month'].value_counts().plot.line(color = 'slateblue')"
      ],
      "execution_count": 40,
      "outputs": [
        {
          "output_type": "execute_result",
          "data": {
            "text/plain": [
              "<matplotlib.axes._subplots.AxesSubplot at 0x7f661dc9f190>"
            ]
          },
          "metadata": {},
          "execution_count": 40
        },
        {
          "output_type": "display_data",
          "data": {
            "image/png": "[encoded data removed]",
            "text/plain": [
              "<Figure size 432x288 with 1 Axes>"
            ]
          },
          "metadata": {
            "needs_background": "light"
          }
        }
      ]
    },
    {
      "cell_type": "markdown",
      "metadata": {
        "id": "22hBoYkar9Gb"
      },
      "source": [
        "There is not specific month where there is a more fatalities than the other"
      ]
    },
    {
      "cell_type": "markdown",
      "metadata": {
        "id": "Y3yw7ugpwhF8"
      },
      "source": [
        "Specific objective: To determine the number of road fatalities is more on weekends than weekdays."
      ]
    },
    {
      "cell_type": "code",
      "metadata": {
        "colab": {
          "base_uri": "https://localhost:8080/",
          "height": 313
        },
        "id": "qBDobJK3p0Bt",
        "outputId": "4159dfaa-34a4-411f-9ea0-3a5f5832b7b2"
      },
      "source": [
        "#creating a histogram for Crashes per Day of week type\n",
        "plt.hist(df[\"Day of week\"], histtype='bar', rwidth=0.9, bins = 2)\n",
        "plt.xlabel('Type of week')\n",
        "plt.ylabel('Crashes number')\n",
        "plt.title('Distribution of Crashes per Day of week type') \n",
        "plt.figure(figsize=(4, 3))\n",
        "plt.show()"
      ],
      "execution_count": 41,
      "outputs": [
        {
          "output_type": "display_data",
          "data": {
            "image/png": "[encoded data removed]",
            "text/plain": [
              "<Figure size 432x288 with 1 Axes>"
            ]
          },
          "metadata": {
            "needs_background": "light"
          }
        },
        {
          "output_type": "display_data",
          "data": {
            "text/plain": [
              "<Figure size 288x216 with 0 Axes>"
            ]
          },
          "metadata": {}
        }
      ]
    },
    {
      "cell_type": "code",
      "metadata": {
        "id": "Tb1pzB9YcG3J"
      },
      "source": [
        "#Encoding the data\n",
        "from sklearn.preprocessing import LabelEncoder\n",
        "en = LabelEncoder()\n",
        "df['Day of week'] = en.fit_transform(df['Day of week'])\n",
        "df['State']= en.fit_transform(df['State'])\n",
        "df['Dayweek']=en.fit_transform(df['Dayweek'])\n",
        "df['Crash Type']=en.fit_transform(df['Crash Type'])\n",
        "df['Bus Involvement']=en.fit_transform(df['Bus Involvement'])\n",
        "df['Articulated Truck Involvement']=en.fit_transform(df['Articulated Truck Involvement'])\n",
        "df['Road User']=en.fit_transform(df['Road User'])\n",
        "df['Gender']=en.fit_transform(df['Gender'])\n",
        "df['Christmas Period']=en.fit_transform(df['Christmas Period'])\n",
        "df['Easter Period']=en.fit_transform(df['Easter Period'])\n",
        "df['Time of day']=en.fit_transform(df['Time of day'])\n",
        "df['Age Group']=en.fit_transform(df['Age Group'])\n",
        "df['Speed Limit'].replace({'<40':'40','Unspecified':'40'},inplace = True)\n",
        "df['Speed Limit'] = df['Speed Limit'].astype(int)"
      ],
      "execution_count": 42,
      "outputs": []
    },
    {
      "cell_type": "code",
      "metadata": {
        "id": "_kskToM4YRnv",
        "colab": {
          "base_uri": "https://localhost:8080/",
          "height": 753
        },
        "outputId": "c08785a1-eb95-46ba-a136-98adb0452719"
      },
      "source": [
        "#df.info()\n",
        "corr_matrix = df.corr()\n",
        "corr_matrix\n",
        "#visualising the corrmatrix\n",
        "fig, ax = plt.subplots(figsize=(10,10)) \n",
        "sns.heatmap(corr_matrix, annot=False,  linewidths=.5, ax=ax)"
      ],
      "execution_count": 43,
      "outputs": [
        {
          "output_type": "execute_result",
          "data": {
            "text/plain": [
              "<matplotlib.axes._subplots.AxesSubplot at 0x7f661dc0ad90>"
            ]
          },
          "metadata": {},
          "execution_count": 43
        },
        {
          "output_type": "display_data",
          "data": {
            "image/png": "[encoded data removed]",
            "text/plain": [
              "<Figure size 720x720 with 2 Axes>"
            ]
          },
          "metadata": {
            "needs_background": "light"
          }
        }
      ]
    },
    {
      "cell_type": "code",
      "metadata": {
        "colab": {
          "base_uri": "https://localhost:8080/",
          "height": 170
        },
        "id": "K1KotUYwwNRi",
        "outputId": "178c07a1-c590-4c0b-da29-6df1a136ae19"
      },
      "source": [
        "df.head(1)"
      ],
      "execution_count": 44,
      "outputs": [
        {
          "output_type": "execute_result",
          "data": {
            "text/html": [
              "<div>\n",
              "<style scoped>\n",
              "    .dataframe tbody tr th:only-of-type {\n",
              "        vertical-align: middle;\n",
              "    }\n",
              "\n",
              "    .dataframe tbody tr th {\n",
              "        vertical-align: top;\n",
              "    }\n",
              "\n",
              "    .dataframe thead th {\n",
              "        text-align: right;\n",
              "    }\n",
              "</style>\n",
              "<table border=\"1\" class=\"dataframe\">\n",
              "  <thead>\n",
              "    <tr style=\"text-align: right;\">\n",
              "      <th></th>\n",
              "      <th>Crash ID</th>\n",
              "      <th>State</th>\n",
              "      <th>Month</th>\n",
              "      <th>Year</th>\n",
              "      <th>Dayweek</th>\n",
              "      <th>Time</th>\n",
              "      <th>Crash Type</th>\n",
              "      <th>Bus Involvement</th>\n",
              "      <th>Articulated Truck Involvement</th>\n",
              "      <th>Speed Limit</th>\n",
              "      <th>Road User</th>\n",
              "      <th>Gender</th>\n",
              "      <th>Age</th>\n",
              "      <th>Christmas Period</th>\n",
              "      <th>Easter Period</th>\n",
              "      <th>Age Group</th>\n",
              "      <th>Day of week</th>\n",
              "      <th>Time of day</th>\n",
              "    </tr>\n",
              "  </thead>\n",
              "  <tbody>\n",
              "    <tr>\n",
              "      <th>1</th>\n",
              "      <td>20214022</td>\n",
              "      <td>4</td>\n",
              "      <td>9</td>\n",
              "      <td>2021</td>\n",
              "      <td>2</td>\n",
              "      <td>2021-11-22 23:31:00</td>\n",
              "      <td>0</td>\n",
              "      <td>0</td>\n",
              "      <td>0</td>\n",
              "      <td>110</td>\n",
              "      <td>6</td>\n",
              "      <td>0</td>\n",
              "      <td>28</td>\n",
              "      <td>0</td>\n",
              "      <td>0</td>\n",
              "      <td>2</td>\n",
              "      <td>1</td>\n",
              "      <td>1</td>\n",
              "    </tr>\n",
              "  </tbody>\n",
              "</table>\n",
              "</div>"
            ],
            "text/plain": [
              "   Crash ID  State  Month  ...  Age Group  Day of week Time of day\n",
              "1  20214022      4      9  ...          2            1           1\n",
              "\n",
              "[1 rows x 18 columns]"
            ]
          },
          "metadata": {},
          "execution_count": 44
        }
      ]
    },
    {
      "cell_type": "markdown",
      "metadata": {
        "id": "KxLeixxBoMir"
      },
      "source": [
        "## Multivariate analysis"
      ]
    },
    {
      "cell_type": "markdown",
      "metadata": {
        "id": "rw430guc1iC2"
      },
      "source": [
        "####Principal Component Analysis"
      ]
    },
    {
      "cell_type": "code",
      "metadata": {
        "id": "SlFZ3F4XoTiv"
      },
      "source": [
        "\n",
        "#Splitting the dataset into the Training set and Test set\n",
        "from sklearn.decomposition import PCA\n",
        "from sklearn.preprocessing import StandardScaler\n",
        "\n",
        "X=df[['Crash Type','Christmas Period', 'Easter Period' ]]\n",
        "sc = StandardScaler()\n",
        "X = sc.fit_transform(X)\n",
        "\n",
        "pca = PCA()\n",
        "X = pca.fit_transform(X)"
      ],
      "execution_count": 45,
      "outputs": []
    },
    {
      "cell_type": "code",
      "metadata": {
        "colab": {
          "base_uri": "https://localhost:8080/"
        },
        "id": "E_aVyvbBy0s6",
        "outputId": "d88199c5-f8b5-4463-db7f-94618a5f2aff"
      },
      "source": [
        "#getting the variance ration\n",
        "explained_variance = pca.explained_variance_ratio_\n",
        "explained_variance"
      ],
      "execution_count": 46,
      "outputs": [
        {
          "output_type": "execute_result",
          "data": {
            "text/plain": [
              "array([0.34166424, 0.33192208, 0.32641368])"
            ]
          },
          "metadata": {},
          "execution_count": 46
        }
      ]
    },
    {
      "cell_type": "markdown",
      "metadata": {
        "id": "0EVyvzgW2MRQ"
      },
      "source": [
        "###Factor Analyzer\n"
      ]
    },
    {
      "cell_type": "code",
      "metadata": {
        "colab": {
          "base_uri": "https://localhost:8080/"
        },
        "id": "4Rssg7LS2ayW",
        "outputId": "cb8223e7-a91e-4340-d48d-1e3d68470d3d"
      },
      "source": [
        "!pip install factor_analyzer==0.2.3"
      ],
      "execution_count": 47,
      "outputs": [
        {
          "output_type": "stream",
          "name": "stdout",
          "text": [
            "Collecting factor_analyzer==0.2.3\n",
            "  Downloading factor_analyzer-0.2.3-py2.py3-none-any.whl (23 kB)\n",
            "Requirement already satisfied: scipy in /usr/local/lib/python3.7/dist-packages (from factor_analyzer==0.2.3) (1.4.1)\n",
            "Requirement already satisfied: numpy in /usr/local/lib/python3.7/dist-packages (from factor_analyzer==0.2.3) (1.19.5)\n",
            "Requirement already satisfied: pandas in /usr/local/lib/python3.7/dist-packages (from factor_analyzer==0.2.3) (1.1.5)\n",
            "Requirement already satisfied: python-dateutil>=2.7.3 in /usr/local/lib/python3.7/dist-packages (from pandas->factor_analyzer==0.2.3) (2.8.2)\n",
            "Requirement already satisfied: pytz>=2017.2 in /usr/local/lib/python3.7/dist-packages (from pandas->factor_analyzer==0.2.3) (2018.9)\n",
            "Requirement already satisfied: six>=1.5 in /usr/local/lib/python3.7/dist-packages (from python-dateutil>=2.7.3->pandas->factor_analyzer==0.2.3) (1.15.0)\n",
            "Installing collected packages: factor-analyzer\n",
            "Successfully installed factor-analyzer-0.2.3\n"
          ]
        }
      ]
    },
    {
      "cell_type": "code",
      "metadata": {
        "colab": {
          "base_uri": "https://localhost:8080/",
          "height": 143
        },
        "id": "FCwm4fB_zMC7",
        "outputId": "a0e1afc6-7f04-49d3-886e-80b14494f85a"
      },
      "source": [
        "from factor_analyzer.factor_analyzer import FactorAnalyzer\n",
        "\n",
        "# Creating factor analysis object and perform factor analysis\n",
        "fa = FactorAnalyzer()\n",
        "fa.analyze(df[['Crash Type','Christmas Period', 'Easter Period' ]], 3, rotation=None)\n",
        "\n",
        "# Checking the Eigenvalues\n",
        "ev, v = fa.get_eigenvalues()\n",
        "ev\n"
      ],
      "execution_count": 48,
      "outputs": [
        {
          "output_type": "execute_result",
          "data": {
            "text/html": [
              "<div>\n",
              "<style scoped>\n",
              "    .dataframe tbody tr th:only-of-type {\n",
              "        vertical-align: middle;\n",
              "    }\n",
              "\n",
              "    .dataframe tbody tr th {\n",
              "        vertical-align: top;\n",
              "    }\n",
              "\n",
              "    .dataframe thead th {\n",
              "        text-align: right;\n",
              "    }\n",
              "</style>\n",
              "<table border=\"1\" class=\"dataframe\">\n",
              "  <thead>\n",
              "    <tr style=\"text-align: right;\">\n",
              "      <th></th>\n",
              "      <th>Original_Eigenvalues</th>\n",
              "    </tr>\n",
              "  </thead>\n",
              "  <tbody>\n",
              "    <tr>\n",
              "      <th>0</th>\n",
              "      <td>1.024993</td>\n",
              "    </tr>\n",
              "    <tr>\n",
              "      <th>1</th>\n",
              "      <td>0.995766</td>\n",
              "    </tr>\n",
              "    <tr>\n",
              "      <th>2</th>\n",
              "      <td>0.979241</td>\n",
              "    </tr>\n",
              "  </tbody>\n",
              "</table>\n",
              "</div>"
            ],
            "text/plain": [
              "   Original_Eigenvalues\n",
              "0              1.024993\n",
              "1              0.995766\n",
              "2              0.979241"
            ]
          },
          "metadata": {},
          "execution_count": 48
        }
      ]
    },
    {
      "cell_type": "code",
      "metadata": {
        "colab": {
          "base_uri": "https://localhost:8080/",
          "height": 198
        },
        "id": "wDkV7yKQ2xFg",
        "outputId": "c2da8b72-9fa0-470c-e1f7-840829f756b0"
      },
      "source": [
        "fa.analyze(df[['Crash Type','Christmas Period', 'Easter Period' ]], 1, rotation=\"varimax\")\n",
        "fa.loadings"
      ],
      "execution_count": 49,
      "outputs": [
        {
          "output_type": "stream",
          "name": "stderr",
          "text": [
            "/usr/local/lib/python3.7/dist-packages/factor_analyzer/factor_analyzer.py:770: UserWarning: No rotation will be performed when the number of factors equals 1.\n",
            "  warnings.warn('No rotation will be performed when '\n"
          ]
        },
        {
          "output_type": "execute_result",
          "data": {
            "text/html": [
              "<div>\n",
              "<style scoped>\n",
              "    .dataframe tbody tr th:only-of-type {\n",
              "        vertical-align: middle;\n",
              "    }\n",
              "\n",
              "    .dataframe tbody tr th {\n",
              "        vertical-align: top;\n",
              "    }\n",
              "\n",
              "    .dataframe thead th {\n",
              "        text-align: right;\n",
              "    }\n",
              "</style>\n",
              "<table border=\"1\" class=\"dataframe\">\n",
              "  <thead>\n",
              "    <tr style=\"text-align: right;\">\n",
              "      <th></th>\n",
              "      <th>Factor1</th>\n",
              "    </tr>\n",
              "  </thead>\n",
              "  <tbody>\n",
              "    <tr>\n",
              "      <th>Crash Type</th>\n",
              "      <td>0.051312</td>\n",
              "    </tr>\n",
              "    <tr>\n",
              "      <th>Christmas Period</th>\n",
              "      <td>-0.180668</td>\n",
              "    </tr>\n",
              "    <tr>\n",
              "      <th>Easter Period</th>\n",
              "      <td>0.113034</td>\n",
              "    </tr>\n",
              "  </tbody>\n",
              "</table>\n",
              "</div>"
            ],
            "text/plain": [
              "                   Factor1\n",
              "Crash Type        0.051312\n",
              "Christmas Period -0.180668\n",
              "Easter Period     0.113034"
            ]
          },
          "metadata": {},
          "execution_count": 49
        }
      ]
    },
    {
      "cell_type": "code",
      "metadata": {
        "colab": {
          "base_uri": "https://localhost:8080/",
          "height": 143
        },
        "id": "w71L1puN38du",
        "outputId": "3d2a450f-eb3d-4699-dbe1-78aabd24f542"
      },
      "source": [
        "#getting the vaiance \n",
        "fa.get_factor_variance()"
      ],
      "execution_count": 50,
      "outputs": [
        {
          "output_type": "execute_result",
          "data": {
            "text/html": [
              "<div>\n",
              "<style scoped>\n",
              "    .dataframe tbody tr th:only-of-type {\n",
              "        vertical-align: middle;\n",
              "    }\n",
              "\n",
              "    .dataframe tbody tr th {\n",
              "        vertical-align: top;\n",
              "    }\n",
              "\n",
              "    .dataframe thead th {\n",
              "        text-align: right;\n",
              "    }\n",
              "</style>\n",
              "<table border=\"1\" class=\"dataframe\">\n",
              "  <thead>\n",
              "    <tr style=\"text-align: right;\">\n",
              "      <th></th>\n",
              "      <th>Factor1</th>\n",
              "    </tr>\n",
              "  </thead>\n",
              "  <tbody>\n",
              "    <tr>\n",
              "      <th>SS Loadings</th>\n",
              "      <td>0.048051</td>\n",
              "    </tr>\n",
              "    <tr>\n",
              "      <th>Proportion Var</th>\n",
              "      <td>0.016017</td>\n",
              "    </tr>\n",
              "    <tr>\n",
              "      <th>Cumulative Var</th>\n",
              "      <td>0.016017</td>\n",
              "    </tr>\n",
              "  </tbody>\n",
              "</table>\n",
              "</div>"
            ],
            "text/plain": [
              "                 Factor1\n",
              "SS Loadings     0.048051\n",
              "Proportion Var  0.016017\n",
              "Cumulative Var  0.016017"
            ]
          },
          "metadata": {},
          "execution_count": 50
        }
      ]
    },
    {
      "cell_type": "markdown",
      "metadata": {
        "id": "pfocxP273Gi3"
      },
      "source": [
        "From the observations I would recommend that the government should allocate more resources to NSW state for improvements of road networks such as raising modern traffic signs such as speed limit signs, tarmacking and deploying more traffic officers in the roads.\n",
        "\n",
        "Secondly,the government should enhance strict punitive measures for anyone who overspeeds in NSW roads as it has been accounted for as the major cause of fatalities. NSW drivers should benchmark the drivers in ACT to see what they are doing differently.\n",
        "\n",
        "All cars should be fitted with airbags for emergency safety to safe drivers in case of car crash.\n",
        "The young people aged 17 -25 should be educated on the importance of road safety as they are the ones prone to the fatalities.\n"
      ]
    },
    {
      "cell_type": "markdown",
      "metadata": {
        "id": "XUbkCKF5VLOr"
      },
      "source": [
        "### Hypothesis Testing"
      ]
    },
    {
      "cell_type": "markdown",
      "metadata": {
        "id": "nWfrL7oWYXyZ"
      },
      "source": [
        "Null: The average age of crash fatalities on the weekday is equal to the average age of crash fatalities on the weekend i.e U1 = U2.\n",
        "\n",
        "Alternative: The average age of crash fatalities on the weekday is not equal to the average age of crash fatalities on the weekend i.e U1 != U2.\n",
        "\n",
        "where U1 = average age of crash fatalities during the weekend \n",
        "\n",
        "U2 is the average age of crush fatalities during the weekday."
      ]
    },
    {
      "cell_type": "code",
      "metadata": {
        "colab": {
          "base_uri": "https://localhost:8080/"
        },
        "id": "wpIsD-B5WjE0",
        "outputId": "a374f8a2-a89f-4122-f0a1-94fa11b84633"
      },
      "source": [
        "# Converting the encoded data to labels\n",
        "\n",
        "df['Day of week'] = df['Day of week'].replace({0:'Weekday',1:'Weekend',})\n",
        "\n",
        "df['Day of week'].unique()\n"
      ],
      "execution_count": 51,
      "outputs": [
        {
          "output_type": "execute_result",
          "data": {
            "text/plain": [
              "array(['Weekend', 'Weekday'], dtype=object)"
            ]
          },
          "metadata": {},
          "execution_count": 51
        }
      ]
    },
    {
      "cell_type": "code",
      "metadata": {
        "id": "3H3gFz-B5AAh"
      },
      "source": [
        "# Creating a weekend and weekday data frame\n",
        "\n",
        "df1 = df[df['Day of week']== 'Weekday']\n",
        "\n",
        "df2 = df[df['Day of week']== 'Weekend']\n"
      ],
      "execution_count": 52,
      "outputs": []
    },
    {
      "cell_type": "code",
      "metadata": {
        "id": "B57x8x6P6tC-"
      },
      "source": [
        "# Sampling data Randomly\n",
        "import random\n",
        "sample_weekday = df1['Age'].sample(n = 1500,random_state=1)\n",
        "\n",
        "sample_weekend = df2['Age'].sample(n = 1500,random_state=1)\n"
      ],
      "execution_count": 53,
      "outputs": []
    },
    {
      "cell_type": "code",
      "metadata": {
        "colab": {
          "base_uri": "https://localhost:8080/"
        },
        "id": "DAeQS3FvLQXi",
        "outputId": "13baa362-5616-4608-817e-f1f1ab17893a"
      },
      "source": [
        "#checking for normality using shapiro test \n",
        "#using the level of signifance 0.05\n",
        "\n",
        "from scipy.stats import shapiro \n",
        "stat, p = shapiro(sample_weekday)\n",
        "print('Statistics=%.3f, p=%.3f' % (stat, p))\n",
        "alpha = 0.05\n",
        "if p > alpha:\n",
        "\tprint('Sample looks Gaussian')\n",
        "else:\n",
        "\tprint('Sample does not look Gaussian')\n",
        "\n",
        "# p_value,1.00 > 0.05 hence failing to reject null hypothesis thus population is from a normal distribution"
      ],
      "execution_count": 54,
      "outputs": [
        {
          "output_type": "stream",
          "name": "stdout",
          "text": [
            "Statistics=0.962, p=0.000\n",
            "Sample does not look Gaussian\n"
          ]
        }
      ]
    },
    {
      "cell_type": "code",
      "metadata": {
        "colab": {
          "base_uri": "https://localhost:8080/"
        },
        "id": "P1iAFDBGLf3b",
        "outputId": "2dbb0f4f-d72b-4cce-a264-3a45674a050d"
      },
      "source": [
        "#checking normality for the weekend population using shapiro\n",
        "\n",
        "stat, p = shapiro(sample_weekend)\n",
        "print('Statistics=%.3f, p=%.3f' % (stat, p))\n",
        "alpha = 0.05\n",
        "if p > alpha:\n",
        "\tprint('Sample looks Gaussian')\n",
        "else:\n",
        "\tprint('Sample does not look Gaussian')\n",
        " #p_value,1 > 0.05 hence fail to reject the null hypothesis"
      ],
      "execution_count": 55,
      "outputs": [
        {
          "output_type": "stream",
          "name": "stdout",
          "text": [
            "Statistics=0.957, p=0.000\n",
            "Sample does not look Gaussian\n"
          ]
        }
      ]
    },
    {
      "cell_type": "code",
      "metadata": {
        "colab": {
          "base_uri": "https://localhost:8080/"
        },
        "id": "wlEm1Uj21HgD",
        "outputId": "53f07e3e-d622-4ae4-c688-9fd684cc5b61"
      },
      "source": [
        "#Calculating the p-value, t-test \n",
        "from scipy.stats import ttest_ind\n",
        "statistic, pvalue = ttest_ind(sample_weekday, sample_weekend, equal_var=False)\n",
        "pvalue = 1 - pvalue\n",
        "\n",
        "# Printing out the p-value and the statistic\n",
        "\n",
        "print(\"p-value of the test = \",pvalue)\n",
        "print(\"Statistic = \",statistic)\n",
        "print(\"_\" * 100)\n",
        "if pvalue < 0.05:\n",
        "  print(\"The average age of crash fatalities on the weekday is equal to the average age of crash fatalaties on the weekend.\")\n",
        "  print(\"_\" * 100) \n",
        "else:\n",
        "  print(\"The average age of crash fatalities on the weekday is not equal to the average age of crash fatalaties on the weekend.\")\n",
        " \n",
        "\n",
        "# Means of the two samples\n",
        "print(sample_weekday.mean())\n",
        "print(sample_weekend.mean())"
      ],
      "execution_count": 56,
      "outputs": [
        {
          "output_type": "stream",
          "name": "stdout",
          "text": [
            "p-value of the test =  1.0\n",
            "Statistic =  9.8177635269062\n",
            "____________________________________________________________________________________________________\n",
            "The average age of crash fatalities on the weekday is not equal to the average age of crash fatalaties on the weekend.\n",
            "48.02066666666666\n",
            "40.29666666666667\n"
          ]
        }
      ]
    },
    {
      "cell_type": "markdown",
      "metadata": {
        "id": "9YzlhhlNAtTi"
      },
      "source": [
        "The results were: p-value = 0.99999 and statistic = 8.29\n",
        "Since the p-value, 0.99>0.05 we fail to reject our null hypothesis and conclude that there is no age difference between the victims of crash over the weekend and weekday this means the road user over the week seems to be coming from the same age group\n"
      ]
    }
  ]
}